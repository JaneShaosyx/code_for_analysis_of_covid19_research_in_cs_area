{
 "cells": [
  {
   "cell_type": "code",
   "execution_count": 1,
   "metadata": {},
   "outputs": [],
   "source": [
    "import requests\n",
    "import json\n",
    "import pandas as pd\n",
    "import numpy as np\n",
    "\n",
    "def search_paper(doi):\n",
    "    url = \"https://api.semanticscholar.org/v1/paper/\" + str(doi)\n",
    "    res = requests.get(url)\n",
    "    if res.status_code == 200:\n",
    "        res_json = json.loads(res.text)\n",
    "        if 'references' in res_json.keys():\n",
    "            return res_json['references']\n",
    "        else:\n",
    "            return []\n",
    "    else:\n",
    "        print(\"error: \" + str(res.status_code) + \"\\nDOI: \" + str(doi))\n",
    "        return []"
   ]
  },
  {
   "cell_type": "code",
   "execution_count": 2,
   "metadata": {},
   "outputs": [
    {
     "data": {
      "text/plain": [
       "0                  10.18280/RIA.340601\n",
       "1               10.1075/jial.20014.bow\n",
       "2             10.3837/tiis.2020.12.007\n",
       "3         10.1371/journal.pcbi.1008489\n",
       "4    10.1109/ICATMRI51801.2020.9398398\n",
       "Name: DOI, dtype: object"
      ]
     },
     "execution_count": 2,
     "metadata": {},
     "output_type": "execute_result"
    }
   ],
   "source": [
    "df = pd.read_csv('cleaned_data.csv')\n",
    "doi_list = df['DOI']\n",
    "doi_list.head()"
   ]
  },
  {
   "cell_type": "code",
   "execution_count": 8,
   "metadata": {},
   "outputs": [],
   "source": [
    "import time\n",
    "def get_reference():\n",
    "    # use paper id as key\n",
    "    res = {}\n",
    "    counter = 0\n",
    "    num = 0\n",
    "    for doi in doi_list:\n",
    "        index = str(num)\n",
    "        if pd.isna(doi):\n",
    "            res[index] = []\n",
    "        else:\n",
    "            ref = search_paper(doi)\n",
    "            # paper_id_list = map(lambda x: json.loads(x)['paperId'], ref)\n",
    "            # res.append(paper_id_list)\n",
    "            res[index] = ref\n",
    "            counter += 1\n",
    "            if counter % 100 == 0:\n",
    "                print(\"Count: \" + str(counter))\n",
    "            time.sleep(3)\n",
    "        num += 1\n",
    "    return res"
   ]
  },
  {
   "cell_type": "code",
   "execution_count": 6,
   "metadata": {},
   "outputs": [
    {
     "data": {
      "text/plain": [
       "27"
      ]
     },
     "execution_count": 6,
     "metadata": {},
     "output_type": "execute_result"
    }
   ],
   "source": [
    "len(search_paper('10.18280/RIA.340601'))"
   ]
  },
  {
   "cell_type": "code",
   "execution_count": 9,
   "metadata": {},
   "outputs": [
    {
     "name": "stdout",
     "output_type": "stream",
     "text": [
      "error: 404\n",
      "DOI: 10.3837/tiis.2020.12.007\n",
      "Count: 100\n",
      "Count: 200\n",
      "Count: 300\n",
      "Count: 400\n",
      "Count: 500\n",
      "error: 404\n",
      "DOI: 10.24507/ijicic.16.06.1829\n",
      "Count: 600\n",
      "Count: 700\n",
      "Count: 800\n",
      "Count: 900\n",
      "Count: 1000\n",
      "Count: 1100\n",
      "error: 404\n",
      "DOI: 10.1109/EHB50910.2020.09280222\n",
      "error: 404\n",
      "DOI: 10.1109/EHB50910.2020.09280229\n",
      "error: 404\n",
      "DOI: 10.1109/EHB50910.2020.09280216\n",
      "Count: 1200\n",
      "Count: 1300\n",
      "Count: 1400\n",
      "Count: 1500\n",
      "Count: 1600\n",
      "Count: 1700\n",
      "Count: 1800\n",
      "Count: 1900\n",
      "error: 404\n",
      "DOI: 10.1007/978-981-33-6378-6_37\n",
      "error: 404\n",
      "DOI: 10.1007/978-981-33-6378-6_38\n",
      "error: 404\n",
      "DOI: 10.21279/1454-864X-20-I2-015\n",
      "error: 404\n",
      "DOI: 10.1504/IJTLID.2020.112744\n",
      "error: 404\n",
      "DOI: 10.21533/pen.v8i4.1754\n",
      "Count: 2000\n",
      "error: 404\n",
      "DOI: 10.20368/1971-8829/1135315\n",
      "error: 404\n",
      "DOI: 10.20368/1971-8829/1135374\n",
      "error: 404\n",
      "DOI: 10.14529/js?200303\n",
      "error: 404\n",
      "DOI: 10.21533/pen.v8i3.1569\n",
      "error: 404\n",
      "DOI: 10.1007/978-981-33-4594-2_16\n",
      "error: 404\n",
      "DOI: 10.1007/978-981-33-4594-2_17\n",
      "Count: 2100\n",
      "error: 404\n",
      "DOI: 10.1007/978-3-030-63322-6_74\n",
      "error: 404\n",
      "DOI: 10.34190/IKM20.069\n",
      "error: 404\n",
      "DOI: 10.34190/IKM.20.094\n",
      "error: 404\n",
      "DOI: 10.34190/EAIR.20.032\n",
      "error: 404\n",
      "DOI: 10.34190/IKM.20.090\n",
      "error: 404\n",
      "DOI: 10.34190/ESM.20.072\n",
      "error: 404\n",
      "DOI: 10.34190/GBL.20.167\n",
      "error: 404\n",
      "DOI: 10.34190/ESM.20.500\n",
      "error: 404\n",
      "DOI: 10.34190/EEL.20.084\n",
      "error: 404\n",
      "DOI: 10.34190/EEL.20.147\n",
      "error: 404\n",
      "DOI: 10.34190/EEL.20.106\n",
      "error: 404\n",
      "DOI: 10.34190/EEL.20.085\n",
      "error: 404\n",
      "DOI: 10.34190/EEL.20.056\n",
      "error: 404\n",
      "DOI: 10.24425-ijet.2020.135675/767\n",
      "error: 404\n",
      "DOI: 10.34190/EEL.20.113\n",
      "error: 404\n",
      "DOI: 10.34190/EEL.20.063\n",
      "error: 404\n",
      "DOI: 10.34190/EEL.20.082\n",
      "error: 404\n",
      "DOI: 10.34190/EEL.20.093\n",
      "error: 404\n",
      "DOI: 10.34190/EEL.20.120\n",
      "error: 404\n",
      "DOI: 10.34190/EEL.20.141\n",
      "error: 404\n",
      "DOI: 10.34190/EEL.20.136\n",
      "Count: 2200\n",
      "error: 404\n",
      "DOI: 10.34190/EEL.20.070\n",
      "error: 404\n",
      "DOI: 10.34190/EEL.20.062\n",
      "error: 404\n",
      "DOI: 10.34190/EEL.20.140\n",
      "Count: 2300\n",
      "error: 404\n",
      "DOI: 10.34190/GBL.20.167\n",
      "error: 404\n",
      "DOI: 10.12753/2066-026X-20-171\n",
      "error: 404\n",
      "DOI: 10.28919/jmcs/4973\n",
      "Count: 2400\n",
      "Count: 2500\n",
      "error: 404\n",
      "DOI: 10.30534/ijatcse/2020/8191.42020\n",
      "error: 404\n",
      "DOI: 10.30534/ijatcse/2020/3191.42020\n",
      "Count: 2600\n",
      "error: 404\n",
      "DOI: 10.12694:/scpe.v21i3.1782\n",
      "error: 404\n",
      "DOI: 10.5373/JARDCS/V12I6/S20201097\n",
      "Count: 2700\n",
      "Count: 2800\n",
      "error: 404\n",
      "DOI: 10.11591/ijeecs.v22.i2.pp479-487\n",
      "error: 404\n",
      "DOI: 10.30534/ijatcse/2020/56932020\n",
      "error: 404\n",
      "DOI: 10.34218/IJM.11.5.2020.036\n",
      "error: 404\n",
      "DOI: 10.34218/IJM.11.5.2020.020\n",
      "error: 404\n",
      "DOI: 10.34218/IJM.11.5.2020.012\n",
      "Count: 2900\n",
      "error: 404\n",
      "DOI: 10.1109/ICCES48766.2020.09138060\n",
      "error: 404\n",
      "DOI: 10.1109/ICCES48766.2020.09138049\n",
      "error: 404\n",
      "DOI: 10.1109/ICCES48766.2020.09138079\n",
      "error: 404\n",
      "DOI: 10.1109/ICCES48766.2020.09137944\n",
      "error: 404\n",
      "DOI: 10.1109/ICCES48766.2020.09137851\n",
      "error: 404\n",
      "DOI: 10.1109/ICCES48766.2020.09137867\n",
      "error: 404\n",
      "DOI: 10.34218/IJEET.11.4.2020.023\n",
      "Count: 3000\n",
      "error: 404\n",
      "DOI: 10.30534/ijatcse/2020/386942020\n",
      "error: 404\n",
      "DOI: 10.30534/ijatcse/2020/11942020\n",
      "Count: 3100\n",
      "Count: 3200\n",
      "Count: 3300\n",
      "Count: 3400\n"
     ]
    }
   ],
   "source": [
    "ref_list = get_reference()"
   ]
  },
  {
   "cell_type": "code",
   "execution_count": 10,
   "metadata": {},
   "outputs": [],
   "source": [
    "json_object = json.dumps(ref_list, indent = 4)\n",
    "with open(\"ref_json.json\", \"w\") as outfile:\n",
    "    outfile.write(json_object)"
   ]
  },
  {
   "cell_type": "code",
   "execution_count": null,
   "metadata": {},
   "outputs": [],
   "source": [
    " "
   ]
  }
 ],
 "metadata": {
  "kernelspec": {
   "display_name": "Python 3.8.3 64-bit",
   "language": "python",
   "name": "python3"
  },
  "language_info": {
   "codemirror_mode": {
    "name": "ipython",
    "version": 3
   },
   "file_extension": ".py",
   "mimetype": "text/x-python",
   "name": "python",
   "nbconvert_exporter": "python",
   "pygments_lexer": "ipython3",
   "version": "3.8.3"
  },
  "orig_nbformat": 4,
  "vscode": {
   "interpreter": {
    "hash": "448b2fa728b49b4e60e350909f059a7d8481223da0e36991f3024c5202debdb8"
   }
  }
 },
 "nbformat": 4,
 "nbformat_minor": 2
}
